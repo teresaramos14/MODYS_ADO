{
 "cells": [
  {
   "cell_type": "code",
   "execution_count": 11,
   "id": "047cfcba-feed-458b-91c6-9504fb62b6ce",
   "metadata": {},
   "outputs": [
    {
     "name": "stdout",
     "output_type": "stream",
     "text": [
      "Procesado: 4027_VEP_2.csv -> 79 variantes guardadas en resultados/4027_VEP_2_filtered.csv\n",
      "\n",
      "Procesamiento completado. Resultados guardados en: resultados\n"
     ]
    }
   ],
   "source": [
    "import pandas as pd\n",
    "import os\n",
    "import re  # Para manejar expresiones regulares\n",
    "\n",
    "# Configuración\n",
    "input_file = '4027_VEP_2.csv'  \n",
    "output_dir = 'resultados'  # Directorio donde se guardarán los resultados\n",
    "\n",
    "# Crear directorio de salida si no existe\n",
    "os.makedirs(output_dir, exist_ok=True)\n",
    "\n",
    "def filter_variants(row, terms, freq_threshold=0.001):\n",
    "    \"\"\" Filtra variantes con CLIN_SIG que contengan términos específicos y gnomAD ≤ 0.001 \"\"\"\n",
    "    if pd.isna(row['Extra']):\n",
    "        return False\n",
    "    \n",
    "    # Buscar si CLIN_SIG contiene alguno de los términos, sin importar el orden\n",
    "    match = re.search(r'CLIN_SIG=([^;]+)', row['Extra'])  # Captura el valor de CLIN_SIG\n",
    "    if match:\n",
    "        clin_sig_values = match.group(1).split(',')  # Divide en lista por comas\n",
    "        clin_sig_match = any(term in clin_sig_values for term in terms)\n",
    "    else:\n",
    "        clin_sig_match = False\n",
    "\n",
    "    # Buscar la frecuencia en gnomAD dentro de 'Extra'\n",
    "    freq_match = False\n",
    "    for entry in row['Extra'].split(';'):\n",
    "        if entry.startswith(\"gnomADe_AF=\"):\n",
    "            try:\n",
    "                freq_value = float(entry.split('=')[1])\n",
    "                if freq_value == 0 or freq_value <= freq_threshold:\n",
    "                    freq_match = True\n",
    "            except ValueError:\n",
    "                pass  # En caso de error, ignorar\n",
    "\n",
    "    return clin_sig_match and freq_match\n",
    "\n",
    "# Términos a filtrar\n",
    "terms_to_filter = ['pathogenic', 'likely_pathogenic', 'uncertain_significance', 'conflicting_interpretations_of_pathogenicity']\n",
    "\n",
    "# Verificar si el archivo existe\n",
    "if os.path.exists(input_file):\n",
    "    # Leer archivo\n",
    "    df = pd.read_csv(input_file, sep=';', header=0)\n",
    "    \n",
    "    # Filtrar variantes\n",
    "    filtrado = df[df.apply(filter_variants, args=(terms_to_filter,), axis=1)].copy()\n",
    "    filtrado.loc[:, 'Extra'] = filtrado['Extra'].str.replace('\"', '')\n",
    "    \n",
    "    if not filtrado.empty:\n",
    "        # Generar nombres de archivo de salida\n",
    "        base_name = os.path.splitext(os.path.basename(input_file))[0]\n",
    "        output_csv = os.path.join(output_dir, f'{base_name}_filtered.csv')\n",
    "        output_excel = os.path.join(output_dir, f'{base_name}_filtered.xlsx')\n",
    "        \n",
    "        # Guardar resultados\n",
    "        filtrado.to_csv(output_csv, index=False, sep=';')\n",
    "        filtrado.to_excel(output_excel, index=False)\n",
    "        \n",
    "        print(f\"Procesado: {input_file} -> {len(filtrado)} variantes guardadas en {output_csv}\")\n",
    "    else:\n",
    "        print(f\"Procesado: {input_file} -> No se encontraron variantes relevantes\")\n",
    "else:\n",
    "    print(f\"Error: El archivo {input_file} no existe.\")\n",
    "\n",
    "print(\"\\nProcesamiento completado. Resultados guardados en:\", output_dir)\n"
   ]
  }
 ],
 "metadata": {
  "kernelspec": {
   "display_name": "Python 3.9",
   "language": "python",
   "name": "python3"
  },
  "language_info": {
   "codemirror_mode": {
    "name": "ipython",
    "version": 3
   },
   "file_extension": ".py",
   "mimetype": "text/x-python",
   "name": "python",
   "nbconvert_exporter": "python",
   "pygments_lexer": "ipython3",
   "version": "3.9.21"
  }
 },
 "nbformat": 4,
 "nbformat_minor": 5
}
